{
 "cells": [
  {
   "cell_type": "code",
   "execution_count": 2,
   "id": "db46d1fb",
   "metadata": {},
   "outputs": [],
   "source": [
    "## Load packages for all chapter\n",
    "import pandas as pd\n",
    "import numpy as np\n",
    "import nfl_data_py as nfl\n",
    "import seaborn as sns\n",
    "import matplotlib.pyplot as plt\n",
    "import os\n"
   ]
  },
  {
   "cell_type": "code",
   "execution_count": null,
   "id": "7f4edb42",
   "metadata": {},
   "outputs": [],
   "source": [
    "## load data\n",
    "chap_6_file = \"./data/pbp_py_chap_6.csv\"\n",
    "if os.path.isfile(chap_6_file):\n",
    "    pbp_py = pd.read_csv(chap_6_file, low_memory=False)\n",
    "else:\n",
    "    seasons = range(2016, 2022 + 1)\n",
    "    pbp_py = nfl.import_pbp_data(seasons)\n",
    "    pbp_py.to_csv(chap_6_file)\n"
   ]
  }
 ],
 "metadata": {
  "kernelspec": {
   "display_name": "football-book-code",
   "language": "python",
   "name": "python3"
  },
  "language_info": {
   "codemirror_mode": {
    "name": "ipython",
    "version": 3
   },
   "file_extension": ".py",
   "mimetype": "text/x-python",
   "name": "python",
   "nbconvert_exporter": "python",
   "pygments_lexer": "ipython3",
   "version": "3.11.13"
  }
 },
 "nbformat": 4,
 "nbformat_minor": 5
}
