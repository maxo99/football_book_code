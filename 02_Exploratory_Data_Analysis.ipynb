{
 "cells": [
  {
   "cell_type": "code",
   "execution_count": null,
   "id": "db46d1fb",
   "metadata": {},
   "outputs": [],
   "source": [
    "## Load packages for all chapter\n",
    "import pandas as pd\n",
    "import numpy as np\n",
    "import nfl_data_py as nfl\n",
    "import seaborn as sns\n",
    "import matplotlib.pyplot as plt\n",
    "import os\n"
   ]
  },
  {
   "cell_type": "code",
   "execution_count": null,
   "id": "7f4edb42",
   "metadata": {},
   "outputs": [],
   "source": [
    "from loader import get_pbp\n",
    "pbp_py = get_pbp(range(2016, 2022 + 1))"
   ]
  },
  {
   "cell_type": "code",
   "execution_count": null,
   "id": "b9db35ca",
   "metadata": {},
   "outputs": [
    {
     "name": "stdout",
     "output_type": "stream",
     "text": [
      "pbp_py.shape: (336324, 392)\n",
      "pbp_py_p.shape: (131607, 393)\n"
     ]
    }
   ],
   "source": [
    "print(f\"pbp_py.shape: {pbp_py.shape}\")\n",
    "## extract passing data\n",
    "pbp_py_p = pbp_py.query(\"play_type == 'pass' & air_yards.notnull()\").reset_index()\n",
    "print(f\"pbp_py_p.shape: {pbp_py_p.shape}\")"
   ]
  },
  {
   "cell_type": "code",
   "execution_count": 11,
   "id": "c87b5af9",
   "metadata": {},
   "outputs": [
    {
     "data": {
      "application/vnd.microsoft.datawrangler.viewer.v0+json": {
       "columns": [
        {
         "name": "index",
         "rawType": "object",
         "type": "string"
        },
        {
         "name": "pass_length_air_yards",
         "rawType": "object",
         "type": "string"
        }
       ],
       "ref": "3851af8a-abed-4cde-a468-ccc5be47b97f",
       "rows": [
        [
         "count",
         "131607"
        ],
        [
         "unique",
         "2"
        ],
        [
         "top",
         "short"
        ],
        [
         "freq",
         "116087"
        ]
       ],
       "shape": {
        "columns": 1,
        "rows": 4
       }
      },
      "text/plain": [
       "count     131607\n",
       "unique         2\n",
       "top        short\n",
       "freq      116087\n",
       "Name: pass_length_air_yards, dtype: object"
      ]
     },
     "execution_count": 11,
     "metadata": {},
     "output_type": "execute_result"
    }
   ],
   "source": [
    "\n",
    "## create filtering criteria\n",
    "pbp_py_p[\"pass_length_air_yards\"] = np.where(\n",
    "    pbp_py_p[\"air_yards\"] >= 20, \"long\", \"short\"\n",
    ")\n",
    "\n",
    "pbp_py_p[\"pass_length_air_yards\"].describe()\n"
   ]
  },
  {
   "cell_type": "code",
   "execution_count": 12,
   "id": "f0037a4e",
   "metadata": {},
   "outputs": [
    {
     "data": {
      "application/vnd.microsoft.datawrangler.viewer.v0+json": {
       "columns": [
        {
         "name": "index",
         "rawType": "object",
         "type": "string"
        },
        {
         "name": "passing_yards",
         "rawType": "float64",
         "type": "float"
        }
       ],
       "ref": "4957c52f-43e8-484e-b012-f18ca1fe570a",
       "rows": [
        [
         "count",
         "131607.0"
        ],
        [
         "mean",
         "7.192649327163449"
        ],
        [
         "std",
         "9.669308209221649"
        ],
        [
         "min",
         "-20.0"
        ],
        [
         "25%",
         "0.0"
        ],
        [
         "50%",
         "5.0"
        ],
        [
         "75%",
         "11.0"
        ],
        [
         "max",
         "98.0"
        ]
       ],
       "shape": {
        "columns": 1,
        "rows": 8
       }
      },
      "text/plain": [
       "count    131607.000000\n",
       "mean          7.192649\n",
       "std           9.669308\n",
       "min         -20.000000\n",
       "25%           0.000000\n",
       "50%           5.000000\n",
       "75%          11.000000\n",
       "max          98.000000\n",
       "Name: passing_yards, dtype: float64"
      ]
     },
     "execution_count": 12,
     "metadata": {},
     "output_type": "execute_result"
    }
   ],
   "source": [
    "\n",
    "## replace missing values\n",
    "pbp_py_p[\"passing_yards\"] = np.where(\n",
    "    pbp_py_p[\"passing_yards\"].isnull(), 0, pbp_py_p[\"passing_yards\"]\n",
    ")\n",
    "\n",
    "## describe passing data\n",
    "pbp_py_p[\"passing_yards\"].describe()\n"
   ]
  },
  {
   "cell_type": "code",
   "execution_count": 15,
   "id": "242a007a",
   "metadata": {},
   "outputs": [
    {
     "data": {
      "application/vnd.microsoft.datawrangler.viewer.v0+json": {
       "columns": [
        {
         "name": "index",
         "rawType": "object",
         "type": "string"
        },
        {
         "name": "passing_yards",
         "rawType": "float64",
         "type": "float"
        }
       ],
       "ref": "4e984795-b697-4900-8b3a-5359f24954ff",
       "rows": [
        [
         "count",
         "116087.0"
        ],
        [
         "mean",
         "6.526777330795007"
        ],
        [
         "std",
         "7.69915842198546"
        ],
        [
         "min",
         "-20.0"
        ],
        [
         "25%",
         "0.0"
        ],
        [
         "50%",
         "5.0"
        ],
        [
         "75%",
         "10.0"
        ],
        [
         "max",
         "95.0"
        ]
       ],
       "shape": {
        "columns": 1,
        "rows": 8
       }
      },
      "text/plain": [
       "count    116087.000000\n",
       "mean          6.526777\n",
       "std           7.699158\n",
       "min         -20.000000\n",
       "25%           0.000000\n",
       "50%           5.000000\n",
       "75%          10.000000\n",
       "max          95.000000\n",
       "Name: passing_yards, dtype: float64"
      ]
     },
     "execution_count": 15,
     "metadata": {},
     "output_type": "execute_result"
    }
   ],
   "source": [
    "\n",
    "## summarize by pass length\n",
    "pbp_py_p.query('pass_length_air_yards == \"short\"')[\"passing_yards\"].describe()\n"
   ]
  },
  {
   "cell_type": "code",
   "execution_count": 16,
   "id": "640f3927",
   "metadata": {},
   "outputs": [
    {
     "data": {
      "application/vnd.microsoft.datawrangler.viewer.v0+json": {
       "columns": [
        {
         "name": "index",
         "rawType": "object",
         "type": "string"
        },
        {
         "name": "passing_yards",
         "rawType": "float64",
         "type": "float"
        }
       ],
       "ref": "d43aa2aa-98a0-4a4b-9320-8616d04b1886",
       "rows": [
        [
         "count",
         "15520.0"
        ],
        [
         "mean",
         "12.173260309278351"
        ],
        [
         "std",
         "17.925947405225696"
        ],
        [
         "min",
         "0.0"
        ],
        [
         "25%",
         "0.0"
        ],
        [
         "50%",
         "0.0"
        ],
        [
         "75%",
         "26.0"
        ],
        [
         "max",
         "98.0"
        ]
       ],
       "shape": {
        "columns": 1,
        "rows": 8
       }
      },
      "text/plain": [
       "count    15520.000000\n",
       "mean        12.173260\n",
       "std         17.925947\n",
       "min          0.000000\n",
       "25%          0.000000\n",
       "50%          0.000000\n",
       "75%         26.000000\n",
       "max         98.000000\n",
       "Name: passing_yards, dtype: float64"
      ]
     },
     "execution_count": 16,
     "metadata": {},
     "output_type": "execute_result"
    }
   ],
   "source": [
    "\n",
    "## filter and only look at long passes\n",
    "pbp_py_p.query('pass_length_air_yards == \"long\"')[\"passing_yards\"].describe()\n"
   ]
  },
  {
   "cell_type": "code",
   "execution_count": 17,
   "id": "576718d0",
   "metadata": {},
   "outputs": [
    {
     "data": {
      "application/vnd.microsoft.datawrangler.viewer.v0+json": {
       "columns": [
        {
         "name": "index",
         "rawType": "object",
         "type": "string"
        },
        {
         "name": "epa",
         "rawType": "float64",
         "type": "float"
        }
       ],
       "ref": "bd675474-97fb-45e4-84a3-5bc6665ec10d",
       "rows": [
        [
         "count",
         "116086.0"
        ],
        [
         "mean",
         "0.11973968552090576"
        ],
        [
         "std",
         "1.4262275674535378"
        ],
        [
         "min",
         "-13.031219"
        ],
        [
         "25%",
         "-0.60609767"
        ],
        [
         "50%",
         "-0.0021155946000000004"
        ],
        [
         "75%",
         "0.95917259"
        ],
        [
         "max",
         "8.24142"
        ]
       ],
       "shape": {
        "columns": 1,
        "rows": 8
       }
      },
      "text/plain": [
       "count    116086.000000\n",
       "mean          0.119740\n",
       "std           1.426228\n",
       "min         -13.031219\n",
       "25%          -0.606098\n",
       "50%          -0.002116\n",
       "75%           0.959173\n",
       "max           8.241420\n",
       "Name: epa, dtype: float64"
      ]
     },
     "execution_count": 17,
     "metadata": {},
     "output_type": "execute_result"
    }
   ],
   "source": [
    "\n",
    "## look at EPA for short passes\n",
    "pbp_py_p.query('pass_length_air_yards == \"short\"')[\"epa\"].describe()\n"
   ]
  },
  {
   "cell_type": "code",
   "execution_count": 18,
   "id": "2894640f",
   "metadata": {},
   "outputs": [
    {
     "data": {
      "application/vnd.microsoft.datawrangler.viewer.v0+json": {
       "columns": [
        {
         "name": "index",
         "rawType": "object",
         "type": "string"
        },
        {
         "name": "epa",
         "rawType": "float64",
         "type": "float"
        }
       ],
       "ref": "3f6165bb-f9ca-4488-8a0f-b279372d671d",
       "rows": [
        [
         "count",
         "15520.0"
        ],
        [
         "mean",
         "0.382845493533531"
        ],
        [
         "std",
         "2.18551143927253"
        ],
        [
         "min",
         "-10.4779215"
        ],
        [
         "25%",
         "-0.827296905"
        ],
        [
         "50%",
         "-0.46496994999999997"
        ],
        [
         "75%",
         "2.1351631"
        ],
        [
         "max",
         "8.789743"
        ]
       ],
       "shape": {
        "columns": 1,
        "rows": 8
       }
      },
      "text/plain": [
       "count    15520.000000\n",
       "mean         0.382845\n",
       "std          2.185511\n",
       "min        -10.477922\n",
       "25%         -0.827297\n",
       "50%         -0.464970\n",
       "75%          2.135163\n",
       "max          8.789743\n",
       "Name: epa, dtype: float64"
      ]
     },
     "execution_count": 18,
     "metadata": {},
     "output_type": "execute_result"
    }
   ],
   "source": [
    "\n",
    "## look at EPA for long passes\n",
    "pbp_py_p.query('pass_length_air_yards == \"long\"')[\"epa\"].describe()\n"
   ]
  },
  {
   "cell_type": "code",
   "execution_count": 19,
   "id": "0493e2b0",
   "metadata": {},
   "outputs": [
    {
     "data": {
      "image/png": "[encoded data removed]",
      "text/plain": [
       "<Figure size 500x500 with 1 Axes>"
      ]
     },
     "metadata": {},
     "output_type": "display_data"
    }
   ],
   "source": [
    "\n",
    "## histograms\n",
    "sns.displot(data=pbp_py, x=\"passing_yards\")\n",
    "plt.show()\n"
   ]
  },
  {
   "cell_type": "code",
   "execution_count": 20,
   "id": "b45711a9",
   "metadata": {},
   "outputs": [
    {
     "data": {
      "image/png": "[encoded data removed]",
      "text/plain": [
       "<Figure size 500x500 with 1 Axes>"
      ]
     },
     "metadata": {},
     "output_type": "display_data"
    }
   ],
   "source": [
    "\n",
    "## set plot setting for rest of chapter\n",
    "sns.set_theme(style=\"whitegrid\", palette=\"colorblind\")\n",
    "\n",
    "## filter out for short passes\n",
    "pbp_py_p_short = pbp_py_p.query('pass_length_air_yards == \"short\"')\n",
    "\n",
    "## Clean up the plot\n",
    "# Plot, change labels, and then show the output\n",
    "pbp_py_hist_short = sns.displot(data=pbp_py_p_short, binwidth=1, x=\"passing_yards\")\n",
    "pbp_py_hist_short.set_axis_labels(\n",
    "    \"Yards gained (or lost) during a passing play\", \"Count\"\n",
    ")\n",
    "plt.show()\n"
   ]
  },
  {
   "cell_type": "code",
   "execution_count": 21,
   "id": "82fed953",
   "metadata": {},
   "outputs": [
    {
     "data": {
      "image/png": "[encoded data removed]",
      "text/plain": [
       "<Figure size 640x480 with 1 Axes>"
      ]
     },
     "metadata": {},
     "output_type": "display_data"
    }
   ],
   "source": [
    "\n",
    "## pass boxplot Python\n",
    "pass_boxplot = sns.boxplot(data=pbp_py_p, x=\"pass_length_air_yards\", y=\"passing_yards\")\n",
    "pass_boxplot.set(\n",
    "    xlabel=\"Pass length (long >= 20 yards, short < 20 yards)\",\n",
    "    ylabel=\"Yards gained (or lost) during a passing play\",\n",
    ")\n",
    "plt.show()\n"
   ]
  },
  {
   "cell_type": "code",
   "execution_count": null,
   "id": "fe4c64b4",
   "metadata": {},
   "outputs": [],
   "source": [
    "\n",
    "## player-level stability\n",
    "## aggregate data\n",
    "pbp_py_p_s = pbp_py_p.groupby([\"passer_id\", \"passer\", \"season\"]).agg(\n",
    "    {\"passing_yards\": [\"mean\", \"count\"]}\n",
    ")\n",
    "\n",
    "## reformat columns\n",
    "pbp_py_p_s.columns = list(map(\"_\".join, pbp_py_p_s.columns.values))\n",
    "\n",
    "## rename columns\n",
    "pbp_py_p_s.rename(\n",
    "    columns={\"passing_yards_mean\": \"ypa\", \"passing_yards_count\": \"n\"}, inplace=True\n",
    ")\n",
    "\n",
    "## look at results\n",
    "## you will likely want to not include .head() to see all results\n",
    "pbp_py_p_s.sort_values(by=[\"ypa\"], ascending=False).head()\n",
    "\n",
    "## select at players with more than 100 yards\n",
    "pbp_py_p_s_100 = pbp_py_p_s.query(\"n >= 100\").sort_values(by=[\"ypa\"], ascending=False)\n",
    "\n",
    "## Look at results\n",
    "pbp_py_p_s_100.head()\n",
    "\n",
    "## calculate at play-by-play passer data by season and pass length\n",
    "pbp_py_p_s_pl = pbp_py_p.groupby(\n",
    "    [\"passer_id\", \"passer\", \"season\", \"pass_length_air_yards\"]\n",
    ").agg({\"passing_yards\": [\"mean\", \"count\"]})\n",
    "\n",
    "## format and rename columns\n",
    "pbp_py_p_s_pl.columns = list(map(\"_\".join, pbp_py_p_s_pl.columns.values))\n",
    "pbp_py_p_s_pl.rename(\n",
    "    columns={\"passing_yards_mean\": \"ypa\", \"passing_yards_count\": \"n\"}, inplace=True\n",
    ")\n",
    "\n",
    "## reset pandas index\n",
    "pbp_py_p_s_pl.reset_index(inplace=True)\n",
    "\n",
    "## select only short passing data\n",
    "q_value = (\n",
    "    \"(n >= 100 & \"\n",
    "    + 'pass_length_air_yards == \"short\") | '\n",
    "    + \"(n >= 30 & \"\n",
    "    + 'pass_length_air_yards == \"long\")'\n",
    ")\n",
    "pbp_py_p_s_pl = pbp_py_p_s_pl.query(q_value).reset_index()\n",
    "\n",
    "## only save select columns\n",
    "cols_save = [\"passer_id\", \"passer\", \"season\", \"pass_length_air_yards\", \"ypa\"]\n",
    "air_yards_py = pbp_py_p_s_pl[cols_save].copy()\n",
    "\n",
    "## create lag data\n",
    "air_yards_lag_py = air_yards_py.copy()\n",
    "air_yards_lag_py[\"season\"] += 1\n",
    "air_yards_lag_py.rename(columns={\"ypa\": \"ypa_last\"}, inplace=True)\n",
    "\n",
    "## merge lag data back in\n",
    "pbp_py_p_s_pl = air_yards_py.merge(\n",
    "    air_yards_lag_py,\n",
    "    how=\"inner\",\n",
    "    on=[\"passer_id\", \"passer\", \"season\", \"pass_length_air_yards\"],\n",
    ")\n",
    "\n",
    "## Look at merged data for two passers\n",
    "print(\n",
    "    pbp_py_p_s_pl[[\"pass_length_air_yards\", \"passer\", \"season\", \"ypa\", \"ypa_last\"]]\n",
    "    .query('passer == \"T.Brady\" | passer == \"A.Rodgers\"')\n",
    "    .sort_values([\"passer\", \"pass_length_air_yards\", \"season\"])\n",
    "    .to_string()\n",
    ")\n",
    "\n",
    "## Look at the info the dataframe\n",
    "pbp_py_p_s_pl.info()\n",
    "\n",
    "## see number of quarterbacks\n",
    "len(pbp_py_p_s_pl.passer_id.unique())\n",
    "\n",
    "## plot scatterplot with Python\n",
    "sns.lmplot(data=pbp_py_p_s_pl, x=\"ypa\", y=\"ypa_last\", col=\"pass_length_air_yards\")\n",
    "plt.show()\n",
    "\n",
    "## Look at correlation in Python\n",
    "pbp_py_p_s_pl.query(\"ypa.notnull() & ypa_last.notnull()\").groupby(\n",
    "    \"pass_length_air_yards\"\n",
    ")[[\"ypa\", \"ypa_last\"]].corr()\n",
    "\n",
    "## 2017 YPA leaderboard\n",
    "pbp_py_p_s_pl.query('pass_length_air_yards == \"long\" & season == 2017')[\n",
    "    [\"passer_id\", \"passer\", \"ypa\"]\n",
    "].sort_values([\"ypa\"], ascending=False).head(10)\n",
    "\n",
    "## 2018 YPA leaderboard\n",
    "pbp_py_p_s_pl.query('pass_length_air_yards == \"long\" & season == 2018')[\n",
    "    [\"passer_id\", \"passer\", \"ypa\"]\n",
    "].sort_values([\"ypa\"], ascending=False).head(10)\n"
   ]
  }
 ],
 "metadata": {
  "kernelspec": {
   "display_name": "football-book-code",
   "language": "python",
   "name": "python3"
  },
  "language_info": {
   "codemirror_mode": {
    "name": "ipython",
    "version": 3
   },
   "file_extension": ".py",
   "mimetype": "text/x-python",
   "name": "python",
   "nbconvert_exporter": "python",
   "pygments_lexer": "ipython3",
   "version": "3.11.13"
  }
 },
 "nbformat": 4,
 "nbformat_minor": 5
}
