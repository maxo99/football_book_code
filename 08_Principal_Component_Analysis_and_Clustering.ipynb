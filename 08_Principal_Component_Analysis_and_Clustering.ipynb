{
 "cells": [
  {
   "cell_type": "code",
   "execution_count": 2,
   "id": "db46d1fb",
   "metadata": {},
   "outputs": [],
   "source": [
    "## Load packages for all chapter\n",
    "import pandas as pd\n",
    "import numpy as np\n",
    "import nfl_data_py as nfl\n",
    "import seaborn as sns\n",
    "import matplotlib.pyplot as plt\n",
    "import os\n"
   ]
  },
  {
   "cell_type": "code",
   "execution_count": 3,
   "id": "7f4edb42",
   "metadata": {},
   "outputs": [],
   "source": [
    "## download, format, and save data\n",
    "chap_8_combine_py_file = \"./data/chap_8_combine_py_file.csv\"\n",
    "if os.path.isfile(chap_8_combine_py_file):\n",
    "    combine_py = pd.read_csv(chap_8_combine_py_file)\n",
    "else:\n",
    "    combine_py = pd.DataFrame()\n",
    "    for i in range(2000, 2023 + 1):\n",
    "        url = \"https://www.pro-football-reference.com/draft/\" + str(i) + \"-combine.htm\"\n",
    "        web_data = pd.read_html(url)[0]\n",
    "        web_data[\"Season\"] = i\n",
    "        web_data = web_data.query('Ht != \"Ht\"')\n",
    "        combine_py = pd.concat([combine_py, web_data])\n",
    "    combine_py.reset_index(drop=True, inplace=True)"
   ]
  }
 ],
 "metadata": {
  "kernelspec": {
   "display_name": "football-book-code",
   "language": "python",
   "name": "python3"
  },
  "language_info": {
   "codemirror_mode": {
    "name": "ipython",
    "version": 3
   },
   "file_extension": ".py",
   "mimetype": "text/x-python",
   "name": "python",
   "nbconvert_exporter": "python",
   "pygments_lexer": "ipython3",
   "version": "3.11.13"
  }
 },
 "nbformat": 4,
 "nbformat_minor": 5
}
